{
 "cells": [
  {
   "cell_type": "code",
   "execution_count": 57,
   "metadata": {},
   "outputs": [
    {
     "name": "stdout",
     "output_type": "stream",
     "text": [
      "                Nome Departamento  Turno  Faltas Dia_da_Semana_Ultima_Falta  \\\n",
      "0    Colaborador_001    Operações  Manhã      14                     Quarta   \n",
      "1    Colaborador_002    Operações  Manhã       1                    Segunda   \n",
      "2    Colaborador_003       Vendas  Manhã       3                    segunda   \n",
      "3    Colaborador_004    Marketing  manha       3                    Segunda   \n",
      "4    Colaborador_005           RH  manha       1                     Quarta   \n",
      "..               ...          ...    ...     ...                        ...   \n",
      "219  Colaborador_056    Operações  Tarde       2                    segunda   \n",
      "220  Colaborador_102       Vendas  manha       3                    segunda   \n",
      "221  Colaborador_188       Vendas  Manhã       3                    segunda   \n",
      "222  Colaborador_147    Marketing  Tarde       1                    segunda   \n",
      "223  Colaborador_092       Vendas  Manhã       0                     Quinta   \n",
      "\n",
      "    Data_Ultima_Falta Evadiu  \n",
      "0          18/01/2024    Sim  \n",
      "1          31/02/2024    Não  \n",
      "2          10/03/2024    Não  \n",
      "3          21/01/2024    Não  \n",
      "4          18/02/2024    Não  \n",
      "..                ...    ...  \n",
      "219        05/01/2024    Não  \n",
      "220        15/02/2024    Não  \n",
      "221        04/02/2024    NaN  \n",
      "222        02/02/2024    Não  \n",
      "223        09/01/2024    Não  \n",
      "\n",
      "[224 rows x 7 columns]\n"
     ]
    }
   ],
   "source": [
    "import pandas as pd\n",
    "import numpy as np\n",
    "\n",
    "df = pd.read_excel('faltas_treinamento_sujo.xlsx')\n",
    "print(df)"
   ]
  },
  {
   "cell_type": "markdown",
   "metadata": {},
   "source": [
    "Exercício 1 – Higienização Básica"
   ]
  },
  {
   "cell_type": "code",
   "execution_count": null,
   "metadata": {},
   "outputs": [],
   "source": [
    "# a) Verifique valores nulos e tipos incorretos.\n",
    "print(df.isnull().sum())\n",
    "coluna_tipos = df.select_dtypes(include=['string', 'object']).columns.tolist()\n",
    "print(coluna_tipos)"
   ]
  },
  {
   "cell_type": "code",
   "execution_count": null,
   "metadata": {},
   "outputs": [],
   "source": [
    "# b) Corrija a coluna de datas inválidas.\n",
    "print(df['Data_Ultima_Falta'].isnull().sum())"
   ]
  },
  {
   "cell_type": "code",
   "execution_count": null,
   "metadata": {},
   "outputs": [],
   "source": [
    "# c) Normalize os nomes dos turnos e dias da semana.\n",
    "df['Dia_da_Semana_Ultima_Falta'] = df['Dia_da_Semana_Ultima_Falta'].str.capitalize()\n",
    "df['Turno'] = df['Turno'].str.capitalize()\n",
    "\n",
    "print(df.head(10))"
   ]
  },
  {
   "cell_type": "markdown",
   "metadata": {},
   "source": [
    "Exercício 2 – Remoção e Substituição"
   ]
  },
  {
   "cell_type": "code",
   "execution_count": 43,
   "metadata": {},
   "outputs": [
    {
     "name": "stdout",
     "output_type": "stream",
     "text": [
      "Nome                          224\n",
      "Departamento                  224\n",
      "Turno                         224\n",
      "Faltas                        224\n",
      "Dia_da_Semana_Ultima_Falta    224\n",
      "Data_Ultima_Falta             224\n",
      "Evadiu                        210\n",
      "dtype: int64\n",
      "Nome                          219\n",
      "Departamento                  219\n",
      "Turno                         219\n",
      "Faltas                        219\n",
      "Dia_da_Semana_Ultima_Falta    219\n",
      "Data_Ultima_Falta             219\n",
      "Evadiu                        206\n",
      "dtype: int64\n"
     ]
    }
   ],
   "source": [
    "# a) Remova os registros duplicados.\n",
    "print(df.count())\n",
    "df = df.drop_duplicates()\n",
    "print(df.count())"
   ]
  },
  {
   "cell_type": "code",
   "execution_count": 44,
   "metadata": {},
   "outputs": [],
   "source": [
    "# b) Substitua os valores nulos da coluna Evadiu por “Desconhecido”.\n",
    "df['Evadiu'] = df['Evadiu'].fillna(\"Desconhecida\", inplace=True)"
   ]
  },
  {
   "cell_type": "code",
   "execution_count": 45,
   "metadata": {},
   "outputs": [],
   "source": [
    "# c) Substitua os valores nulos da coluna Data_Ultima_Falta pela data mais comum.\n",
    "df['Data_Ultima_Falta'] = df['Data_Ultima_Falta'].fillna(df['Data_Ultima_Falta'].mode())"
   ]
  },
  {
   "cell_type": "markdown",
   "metadata": {},
   "source": [
    "Exercício 3 – Correções e Detecção de Outliers"
   ]
  },
  {
   "cell_type": "code",
   "execution_count": 47,
   "metadata": {},
   "outputs": [],
   "source": [
    "# a) Converta a coluna Faltas para tipo inteiro.\n",
    "df['Faltas'] = df['Faltas'].astype(int)"
   ]
  },
  {
   "cell_type": "code",
   "execution_count": 61,
   "metadata": {},
   "outputs": [
    {
     "name": "stdout",
     "output_type": "stream",
     "text": [
      "                Nome Departamento  Turno  Faltas Dia_da_Semana_Ultima_Falta  \\\n",
      "0                NaN          NaN    NaN     2.0                        NaN   \n",
      "1                NaN          NaN    NaN     2.0                        NaN   \n",
      "2                NaN          NaN    NaN     2.0                        NaN   \n",
      "3                NaN          NaN    NaN     2.0                        NaN   \n",
      "4                NaN          NaN    NaN     2.0                        NaN   \n",
      "..               ...          ...    ...     ...                        ...   \n",
      "219  Colaborador_056    Operações  Tarde     2.0                    segunda   \n",
      "220              NaN          NaN    NaN     2.0                        NaN   \n",
      "221              NaN          NaN    NaN     2.0                        NaN   \n",
      "222              NaN          NaN    NaN     2.0                        NaN   \n",
      "223              NaN          NaN    NaN     2.0                        NaN   \n",
      "\n",
      "    Data_Ultima_Falta Evadiu  \n",
      "0                 NaN    NaN  \n",
      "1                 NaN    NaN  \n",
      "2                 NaN    NaN  \n",
      "3                 NaN    NaN  \n",
      "4                 NaN    NaN  \n",
      "..                ...    ...  \n",
      "219        05/01/2024    Não  \n",
      "220               NaN    NaN  \n",
      "221               NaN    NaN  \n",
      "222               NaN    NaN  \n",
      "223               NaN    NaN  \n",
      "\n",
      "[224 rows x 7 columns]\n"
     ]
    },
    {
     "name": "stderr",
     "output_type": "stream",
     "text": [
      "C:\\Users\\48260449846\\AppData\\Local\\Temp\\ipykernel_17928\\570301128.py:6: FutureWarning: A value is trying to be set on a copy of a DataFrame or Series through chained assignment using an inplace method.\n",
      "The behavior will change in pandas 3.0. This inplace method will never work because the intermediate object on which we are setting values always behaves as a copy.\n",
      "\n",
      "For example, when doing 'df[col].method(value, inplace=True)', try using 'df.method({col: value}, inplace=True)' or df[col] = df[col].method(value) instead, to perform the operation inplace on the original object.\n",
      "\n",
      "\n",
      "  df['Faltas'].fillna(median, inplace=True)\n"
     ]
    }
   ],
   "source": [
    "# b) Substitua outliers de faltas por np.nan e depois pela mediana.\n",
    "median = df['Faltas'].median()\n",
    "std = df['Faltas'].std()\n",
    "outliers = (df['Faltas'] - median).abs() > std\n",
    "df[outliers] = np.nan\n",
    "df['Faltas'].fillna(median, inplace=True)"
   ]
  }
 ],
 "metadata": {
  "kernelspec": {
   "display_name": "Python 3",
   "language": "python",
   "name": "python3"
  },
  "language_info": {
   "codemirror_mode": {
    "name": "ipython",
    "version": 3
   },
   "file_extension": ".py",
   "mimetype": "text/x-python",
   "name": "python",
   "nbconvert_exporter": "python",
   "pygments_lexer": "ipython3",
   "version": "3.12.1"
  }
 },
 "nbformat": 4,
 "nbformat_minor": 2
}
