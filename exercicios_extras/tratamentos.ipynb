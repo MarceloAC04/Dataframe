{
 "cells": [
  {
   "cell_type": "code",
   "execution_count": 22,
   "metadata": {},
   "outputs": [
    {
     "name": "stdout",
     "output_type": "stream",
     "text": [
      "                Nome Departamento  Turno  Faltas Dia_da_Semana_Ultima_Falta  \\\n",
      "0    Colaborador_001    Operações  Manhã      14                     Quarta   \n",
      "1    Colaborador_002    Operações  Manhã       1                    Segunda   \n",
      "2    Colaborador_003       Vendas  Manhã       3                    segunda   \n",
      "3    Colaborador_004    Marketing  manha       3                    Segunda   \n",
      "4    Colaborador_005           RH  manha       1                     Quarta   \n",
      "..               ...          ...    ...     ...                        ...   \n",
      "219  Colaborador_056    Operações  Tarde       2                    segunda   \n",
      "220  Colaborador_102       Vendas  manha       3                    segunda   \n",
      "221  Colaborador_188       Vendas  Manhã       3                    segunda   \n",
      "222  Colaborador_147    Marketing  Tarde       1                    segunda   \n",
      "223  Colaborador_092       Vendas  Manhã       0                     Quinta   \n",
      "\n",
      "    Data_Ultima_Falta Evadiu  \n",
      "0          18/01/2024    Sim  \n",
      "1          31/02/2024    Não  \n",
      "2          10/03/2024    Não  \n",
      "3          21/01/2024    Não  \n",
      "4          18/02/2024    Não  \n",
      "..                ...    ...  \n",
      "219        05/01/2024    Não  \n",
      "220        15/02/2024    Não  \n",
      "221        04/02/2024    NaN  \n",
      "222        02/02/2024    Não  \n",
      "223        09/01/2024    Não  \n",
      "\n",
      "[224 rows x 7 columns]\n"
     ]
    }
   ],
   "source": [
    "import pandas as pd\n",
    "import numpy as np\n",
    "\n",
    "df = pd.read_excel('faltas_treinamento_sujo.xlsx')\n",
    "print(df)"
   ]
  },
  {
   "cell_type": "markdown",
   "metadata": {},
   "source": [
    "Exercício 1 – Higienização Básica"
   ]
  },
  {
   "cell_type": "code",
   "execution_count": 23,
   "metadata": {},
   "outputs": [
    {
     "name": "stdout",
     "output_type": "stream",
     "text": [
      "Nome                           0\n",
      "Departamento                   0\n",
      "Turno                          0\n",
      "Faltas                         0\n",
      "Dia_da_Semana_Ultima_Falta     0\n",
      "Data_Ultima_Falta              0\n",
      "Evadiu                        14\n",
      "dtype: int64\n",
      "['Nome', 'Departamento', 'Turno', 'Dia_da_Semana_Ultima_Falta', 'Data_Ultima_Falta', 'Evadiu']\n"
     ]
    }
   ],
   "source": [
    "# a) Verifique valores nulos e tipos incorretos.\n",
    "print(df.isnull().sum())\n",
    "coluna_tipos = df.select_dtypes(include=['string', 'object']).columns.tolist()\n",
    "print(coluna_tipos)"
   ]
  },
  {
   "cell_type": "code",
   "execution_count": 24,
   "metadata": {},
   "outputs": [
    {
     "name": "stdout",
     "output_type": "stream",
     "text": [
      "                Nome Departamento  Turno  Faltas Dia_da_Semana_Ultima_Falta  \\\n",
      "0    Colaborador_001    Operações  Manhã      14                     Quarta   \n",
      "1    Colaborador_002    Operações  Manhã       1                    Segunda   \n",
      "2    Colaborador_003       Vendas  Manhã       3                    segunda   \n",
      "3    Colaborador_004    Marketing  manha       3                    Segunda   \n",
      "4    Colaborador_005           RH  manha       1                     Quarta   \n",
      "..               ...          ...    ...     ...                        ...   \n",
      "219  Colaborador_056    Operações  Tarde       2                    segunda   \n",
      "220  Colaborador_102       Vendas  manha       3                    segunda   \n",
      "221  Colaborador_188       Vendas  Manhã       3                    segunda   \n",
      "222  Colaborador_147    Marketing  Tarde       1                    segunda   \n",
      "223  Colaborador_092       Vendas  Manhã       0                     Quinta   \n",
      "\n",
      "    Data_Ultima_Falta Evadiu  \n",
      "0          2024-01-18    Sim  \n",
      "1                 NaT    Não  \n",
      "2          2024-03-10    Não  \n",
      "3          2024-01-21    Não  \n",
      "4          2024-02-18    Não  \n",
      "..                ...    ...  \n",
      "219        2024-01-05    Não  \n",
      "220        2024-02-15    Não  \n",
      "221        2024-02-04    NaN  \n",
      "222        2024-02-02    Não  \n",
      "223        2024-01-09    Não  \n",
      "\n",
      "[224 rows x 7 columns]\n"
     ]
    }
   ],
   "source": [
    "# b) Corrija a coluna de datas inválidas.\n",
    "df['Data_Ultima_Falta'] = pd.to_datetime(df['Data_Ultima_Falta'], errors='coerce', format='%d/%m/%Y')\n",
    "print(df)"
   ]
  },
  {
   "cell_type": "code",
   "execution_count": 25,
   "metadata": {},
   "outputs": [
    {
     "name": "stdout",
     "output_type": "stream",
     "text": [
      "              Nome Departamento  Turno  Faltas Dia_da_Semana_Ultima_Falta  \\\n",
      "0  Colaborador_001    Operações  Manhã      14                     Quarta   \n",
      "1  Colaborador_002    Operações  Manhã       1                    Segunda   \n",
      "2  Colaborador_003       Vendas  Manhã       3                    Segunda   \n",
      "3  Colaborador_004    Marketing  Manhã       3                    Segunda   \n",
      "4  Colaborador_005           RH  Manhã       1                     Quarta   \n",
      "5  Colaborador_006           RH  Manhã       2                    Segunda   \n",
      "6  Colaborador_007    Marketing  Manhã       1                    Segunda   \n",
      "7  Colaborador_008    Operações  Manhã      11                      Terça   \n",
      "8  Colaborador_009   Financeiro  Tarde       2                    Segunda   \n",
      "9  Colaborador_010           TI  Manhã       2                    Segunda   \n",
      "\n",
      "  Data_Ultima_Falta Evadiu  \n",
      "0        2024-01-18    Sim  \n",
      "1               NaT    Não  \n",
      "2        2024-03-10    Não  \n",
      "3        2024-01-21    Não  \n",
      "4        2024-02-18    Não  \n",
      "5        2024-01-16    Não  \n",
      "6        2024-02-16    Não  \n",
      "7        2024-01-11    Sim  \n",
      "8        2024-01-21    Não  \n",
      "9        2024-03-18    Não  \n"
     ]
    }
   ],
   "source": [
    "# c) Normalize os nomes dos turnos e dias da semana.\n",
    "df['Dia_da_Semana_Ultima_Falta'] = df['Dia_da_Semana_Ultima_Falta'].str.strip().str.title()\n",
    "df['Turno'] = df['Turno'].str.strip().str.title().replace({'Manha': 'Manhã'})\n",
    "print(df.head(10))"
   ]
  },
  {
   "cell_type": "markdown",
   "metadata": {},
   "source": [
    "Exercício 2 – Remoção e Substituição"
   ]
  },
  {
   "cell_type": "code",
   "execution_count": 26,
   "metadata": {},
   "outputs": [
    {
     "name": "stdout",
     "output_type": "stream",
     "text": [
      "Nome                          224\n",
      "Departamento                  224\n",
      "Turno                         224\n",
      "Faltas                        224\n",
      "Dia_da_Semana_Ultima_Falta    224\n",
      "Data_Ultima_Falta             212\n",
      "Evadiu                        210\n",
      "dtype: int64\n",
      "0      Sim\n",
      "1      Não\n",
      "2      Não\n",
      "3      Não\n",
      "4      Não\n",
      "      ... \n",
      "214    Não\n",
      "215    Não\n",
      "216    Não\n",
      "217    Não\n",
      "218    Não\n",
      "Name: Evadiu, Length: 219, dtype: object\n"
     ]
    }
   ],
   "source": [
    "# a) Remova os registros duplicados.\n",
    "print(df.count())\n",
    "df = df.drop_duplicates()\n",
    "print(df['Evadiu'])"
   ]
  },
  {
   "cell_type": "code",
   "execution_count": 27,
   "metadata": {},
   "outputs": [
    {
     "name": "stdout",
     "output_type": "stream",
     "text": [
      "                Nome Departamento  Turno  Faltas Dia_da_Semana_Ultima_Falta  \\\n",
      "0    Colaborador_001    Operações  Manhã      14                     Quarta   \n",
      "1    Colaborador_002    Operações  Manhã       1                    Segunda   \n",
      "2    Colaborador_003       Vendas  Manhã       3                    Segunda   \n",
      "3    Colaborador_004    Marketing  Manhã       3                    Segunda   \n",
      "4    Colaborador_005           RH  Manhã       1                     Quarta   \n",
      "..               ...          ...    ...     ...                        ...   \n",
      "214  Colaborador_215    Operações  Tarde       3                    Segunda   \n",
      "215  Colaborador_216    Operações  Manhã       1                    Segunda   \n",
      "216  Colaborador_217   Financeiro  Tarde       2                    Segunda   \n",
      "217  Colaborador_218           RH  Tarde       1                      Terça   \n",
      "218  Colaborador_219   Financeiro  Manhã       0                      Sexta   \n",
      "\n",
      "    Data_Ultima_Falta Evadiu  \n",
      "0          2024-01-18    Sim  \n",
      "1                 NaT    Não  \n",
      "2          2024-03-10    Não  \n",
      "3          2024-01-21    Não  \n",
      "4          2024-02-18    Não  \n",
      "..                ...    ...  \n",
      "214        2024-02-09    Não  \n",
      "215        2024-03-28    Não  \n",
      "216        2024-01-24    Não  \n",
      "217        2024-02-07    Não  \n",
      "218        2024-02-18    Não  \n",
      "\n",
      "[219 rows x 7 columns]\n"
     ]
    }
   ],
   "source": [
    "# b) Substitua os valores nulos da coluna Evadiu por “Desconhecido”.\n",
    "df.fillna({\"Evadiu\":\"Desconhecido\"}, inplace=True)\n",
    "print(df)"
   ]
  },
  {
   "cell_type": "code",
   "execution_count": 28,
   "metadata": {},
   "outputs": [
    {
     "name": "stdout",
     "output_type": "stream",
     "text": [
      "                Nome Departamento  Turno  Faltas Dia_da_Semana_Ultima_Falta  \\\n",
      "0    Colaborador_001    Operações  Manhã      14                     Quarta   \n",
      "1    Colaborador_002    Operações  Manhã       1                    Segunda   \n",
      "2    Colaborador_003       Vendas  Manhã       3                    Segunda   \n",
      "3    Colaborador_004    Marketing  Manhã       3                    Segunda   \n",
      "4    Colaborador_005           RH  Manhã       1                     Quarta   \n",
      "..               ...          ...    ...     ...                        ...   \n",
      "214  Colaborador_215    Operações  Tarde       3                    Segunda   \n",
      "215  Colaborador_216    Operações  Manhã       1                    Segunda   \n",
      "216  Colaborador_217   Financeiro  Tarde       2                    Segunda   \n",
      "217  Colaborador_218           RH  Tarde       1                      Terça   \n",
      "218  Colaborador_219   Financeiro  Manhã       0                      Sexta   \n",
      "\n",
      "    Data_Ultima_Falta Evadiu  \n",
      "0          2024-01-18    Sim  \n",
      "1          2024-03-20    Não  \n",
      "2          2024-03-10    Não  \n",
      "3          2024-01-21    Não  \n",
      "4          2024-02-18    Não  \n",
      "..                ...    ...  \n",
      "214        2024-02-09    Não  \n",
      "215        2024-03-28    Não  \n",
      "216        2024-01-24    Não  \n",
      "217        2024-02-07    Não  \n",
      "218        2024-02-18    Não  \n",
      "\n",
      "[219 rows x 7 columns]\n"
     ]
    }
   ],
   "source": [
    "# c) Substitua os valores nulos da coluna Data_Ultima_Falta pela data mais comum.\n",
    "df['Data_Ultima_Falta'] = df['Data_Ultima_Falta'].fillna(df['Data_Ultima_Falta'].mode()[0])\n",
    "print(df)"
   ]
  },
  {
   "cell_type": "markdown",
   "metadata": {},
   "source": [
    "Exercício 3 – Correções e Detecção de Outliers"
   ]
  },
  {
   "cell_type": "code",
   "execution_count": 29,
   "metadata": {},
   "outputs": [],
   "source": [
    "# a) Converta a coluna Faltas para tipo inteiro.\n",
    "df['Faltas'] = df['Faltas'].astype(int)"
   ]
  },
  {
   "cell_type": "code",
   "execution_count": 30,
   "metadata": {},
   "outputs": [
    {
     "name": "stdout",
     "output_type": "stream",
     "text": [
      "                Nome Departamento  Turno  Faltas Dia_da_Semana_Ultima_Falta  \\\n",
      "0    Colaborador_001    Operações  Manhã      14                     Quarta   \n",
      "1    Colaborador_002    Operações  Manhã       1                    Segunda   \n",
      "2    Colaborador_003       Vendas  Manhã       3                    Segunda   \n",
      "3    Colaborador_004    Marketing  Manhã       3                    Segunda   \n",
      "4    Colaborador_005           RH  Manhã       1                     Quarta   \n",
      "..               ...          ...    ...     ...                        ...   \n",
      "214  Colaborador_215    Operações  Tarde       3                    Segunda   \n",
      "215  Colaborador_216    Operações  Manhã       1                    Segunda   \n",
      "216  Colaborador_217   Financeiro  Tarde       2                    Segunda   \n",
      "217  Colaborador_218           RH  Tarde       1                      Terça   \n",
      "218  Colaborador_219   Financeiro  Manhã       0                      Sexta   \n",
      "\n",
      "    Data_Ultima_Falta Evadiu  Faltas_Suspeitas  \n",
      "0          2024-01-18    Sim              True  \n",
      "1          2024-03-20    Não             False  \n",
      "2          2024-03-10    Não             False  \n",
      "3          2024-01-21    Não             False  \n",
      "4          2024-02-18    Não             False  \n",
      "..                ...    ...               ...  \n",
      "214        2024-02-09    Não             False  \n",
      "215        2024-03-28    Não             False  \n",
      "216        2024-01-24    Não             False  \n",
      "217        2024-02-07    Não             False  \n",
      "218        2024-02-18    Não             False  \n",
      "\n",
      "[219 rows x 8 columns]\n"
     ]
    }
   ],
   "source": [
    "# b) Substitua outliers de faltas por np.nan e depois pela mediana.\n",
    "# c) Crie um flag “Faltas_Suspeitas” para valores > 10.\n",
    "Q1 = df['Faltas'].quantile(0.25)\n",
    "Q3 = df['Faltas'].quantile(0.75)\n",
    "IQR = Q3 - Q1\n",
    "limite_superior = Q3 + 1.5 * IQR\n",
    "\n",
    "# Flag de faltas suspeitas (outliers)\n",
    "df['Faltas_Suspeitas'] = df['Faltas'] > limite_superior\n",
    "\n",
    "# Substituir outliers por NaN, depois preencher com mediana\n",
    "mediana = df['Faltas'].median()\n",
    "df['Faltas'] = df['Faltas'].fillna(mediana)\n",
    "print(df)"
   ]
  },
  {
   "cell_type": "code",
   "execution_count": 31,
   "metadata": {},
   "outputs": [],
   "source": [
    "df.to_excel('faltas_tratadas.xlsx', index=False)"
   ]
  }
 ],
 "metadata": {
  "kernelspec": {
   "display_name": "Python 3",
   "language": "python",
   "name": "python3"
  },
  "language_info": {
   "codemirror_mode": {
    "name": "ipython",
    "version": 3
   },
   "file_extension": ".py",
   "mimetype": "text/x-python",
   "name": "python",
   "nbconvert_exporter": "python",
   "pygments_lexer": "ipython3",
   "version": "3.12.1"
  }
 },
 "nbformat": 4,
 "nbformat_minor": 2
}
