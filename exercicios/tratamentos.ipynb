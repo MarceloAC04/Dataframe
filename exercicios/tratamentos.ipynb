{
 "cells": [
  {
   "cell_type": "code",
   "execution_count": 53,
   "metadata": {},
   "outputs": [
    {
     "name": "stdout",
     "output_type": "stream",
     "text": [
      "          data         loja         categoria          produto  quantidade  \\\n",
      "0   2024-07-20  Vento Norte  ELETRODOMESTICOS        Aquecedor         5.0   \n",
      "1   2024-05-30  Vento Norte           sazonal     Guarda-chuva         6.0   \n",
      "2   2024-01-25  Vento Norte            roupas            Calça         8.0   \n",
      "3   2024-07-10  Chuva Clara            roupas           Casaco         5.0   \n",
      "4   2024-05-29    Porto Sol          infantil   Blusa Infantil         NaN   \n",
      "..         ...          ...               ...              ...         ...   \n",
      "495 2024-08-23    Porto Sol  eletrodomesticos       Ventilador         4.0   \n",
      "496 2024-12-19  Vento Norte  eletrodomesticos       Ventilador         1.0   \n",
      "497 2024-05-12    Vila Neve          infantil   Blusa Infantil         6.0   \n",
      "498 2024-03-08    Vila Neve  eletrodomesticos  Ar-condicionado         1.0   \n",
      "499 2024-07-25  Vento Norte           sazonal     Guarda-chuva         3.0   \n",
      "\n",
      "     valor_venda  \n",
      "0         405.55  \n",
      "1        2866.20  \n",
      "2        3292.72  \n",
      "3        1294.95  \n",
      "4            NaN  \n",
      "..           ...  \n",
      "495      1545.72  \n",
      "496       230.89  \n",
      "497       441.30  \n",
      "498       293.93  \n",
      "499      1479.81  \n",
      "\n",
      "[500 rows x 6 columns]\n"
     ]
    }
   ],
   "source": [
    "import pandas as pd\n",
    "df = pd.read_excel('vendas.xlsx')\n",
    "print(df)"
   ]
  },
  {
   "cell_type": "code",
   "execution_count": 54,
   "metadata": {},
   "outputs": [
    {
     "name": "stdout",
     "output_type": "stream",
     "text": [
      "0      eletrodomesticos\n",
      "1               sazonal\n",
      "2                roupas\n",
      "3                roupas\n",
      "4              infantil\n",
      "             ...       \n",
      "495    eletrodomesticos\n",
      "496    eletrodomesticos\n",
      "497            infantil\n",
      "498    eletrodomesticos\n",
      "499             sazonal\n",
      "Name: categoria, Length: 500, dtype: object\n"
     ]
    }
   ],
   "source": [
    "# 1.Padronizar a coluna &#39;categoria&#39; para minúsculas.\n",
    "df['categoria'] = df['categoria'].str.lower()\n",
    "print(df['categoria'])"
   ]
  },
  {
   "cell_type": "code",
   "execution_count": 55,
   "metadata": {},
   "outputs": [
    {
     "name": "stdout",
     "output_type": "stream",
     "text": [
      "          data         loja         categoria          produto  quantidade  \\\n",
      "0   2024-07-20  Vento Norte  eletrodomesticos        Aquecedor         5.0   \n",
      "1   2024-05-30  Vento Norte           sazonal     Guarda-chuva         6.0   \n",
      "2   2024-01-25  Vento Norte            roupas            Calça         8.0   \n",
      "3   2024-07-10  Chuva Clara            roupas           Casaco         5.0   \n",
      "5   2024-08-31    Porto Sol           sazonal    Manta térmica         2.0   \n",
      "..         ...          ...               ...              ...         ...   \n",
      "495 2024-08-23    Porto Sol  eletrodomesticos       Ventilador         4.0   \n",
      "496 2024-12-19  Vento Norte  eletrodomesticos       Ventilador         1.0   \n",
      "497 2024-05-12    Vila Neve          infantil   Blusa Infantil         6.0   \n",
      "498 2024-03-08    Vila Neve  eletrodomesticos  Ar-condicionado         1.0   \n",
      "499 2024-07-25  Vento Norte           sazonal     Guarda-chuva         3.0   \n",
      "\n",
      "     valor_venda  \n",
      "0         405.55  \n",
      "1        2866.20  \n",
      "2        3292.72  \n",
      "3        1294.95  \n",
      "5         957.96  \n",
      "..           ...  \n",
      "495      1545.72  \n",
      "496       230.89  \n",
      "497       441.30  \n",
      "498       293.93  \n",
      "499      1479.81  \n",
      "\n",
      "[407 rows x 6 columns]\n"
     ]
    }
   ],
   "source": [
    "# 2.Remover registros onde a quantidade está ausente\n",
    "df = df.dropna()\n",
    "print(df)"
   ]
  },
  {
   "cell_type": "code",
   "execution_count": 56,
   "metadata": {},
   "outputs": [
    {
     "name": "stdout",
     "output_type": "stream",
     "text": [
      "          Data         Loja         Categoria          Produto  Quantidade  \\\n",
      "0   2024-07-20  Vento Norte  eletrodomesticos        Aquecedor         5.0   \n",
      "1   2024-05-30  Vento Norte           sazonal     Guarda-chuva         6.0   \n",
      "2   2024-01-25  Vento Norte            roupas            Calça         8.0   \n",
      "3   2024-07-10  Chuva Clara            roupas           Casaco         5.0   \n",
      "5   2024-08-31    Porto Sol           sazonal    Manta térmica         2.0   \n",
      "..         ...          ...               ...              ...         ...   \n",
      "495 2024-08-23    Porto Sol  eletrodomesticos       Ventilador         4.0   \n",
      "496 2024-12-19  Vento Norte  eletrodomesticos       Ventilador         1.0   \n",
      "497 2024-05-12    Vila Neve          infantil   Blusa Infantil         6.0   \n",
      "498 2024-03-08    Vila Neve  eletrodomesticos  Ar-condicionado         1.0   \n",
      "499 2024-07-25  Vento Norte           sazonal     Guarda-chuva         3.0   \n",
      "\n",
      "     Valor_venda  \n",
      "0         405.55  \n",
      "1        2866.20  \n",
      "2        3292.72  \n",
      "3        1294.95  \n",
      "5         957.96  \n",
      "..           ...  \n",
      "495      1545.72  \n",
      "496       230.89  \n",
      "497       441.30  \n",
      "498       293.93  \n",
      "499      1479.81  \n",
      "\n",
      "[407 rows x 6 columns]\n"
     ]
    }
   ],
   "source": [
    "# 3.Remover espaços extras e padronizar com primeira letra maiúscula (estilo título)\n",
    "df.columns = df.columns.str.capitalize()\n",
    "df.columns = df.columns.str.strip()\n",
    "print(df)"
   ]
  },
  {
   "cell_type": "code",
   "execution_count": 57,
   "metadata": {},
   "outputs": [
    {
     "name": "stdout",
     "output_type": "stream",
     "text": [
      "          Data         Loja         Categoria          Produto  Quantidade  \\\n",
      "0   2024-07-20  Vento Norte  eletrodomesticos        Aquecedor         5.0   \n",
      "1   2024-05-30  Vento Norte           sazonal     Guarda-chuva         6.0   \n",
      "2   2024-01-25  Vento Norte            roupas            Calça         8.0   \n",
      "3   2024-07-10  Chuva Clara            roupas           Casaco         5.0   \n",
      "5   2024-08-31    Porto Sol           sazonal    Manta térmica         2.0   \n",
      "..         ...          ...               ...              ...         ...   \n",
      "495 2024-08-23    Porto Sol  eletrodomesticos       Ventilador         4.0   \n",
      "496 2024-12-19  Vento Norte  eletrodomesticos       Ventilador         1.0   \n",
      "497 2024-05-12    Vila Neve          infantil   Blusa Infantil         6.0   \n",
      "498 2024-03-08    Vila Neve  eletrodomesticos  Ar-condicionado         1.0   \n",
      "499 2024-07-25  Vento Norte           sazonal     Guarda-chuva         3.0   \n",
      "\n",
      "     Valor_venda  \n",
      "0         405.55  \n",
      "1        2866.20  \n",
      "2        3292.72  \n",
      "3        1294.95  \n",
      "5         957.96  \n",
      "..           ...  \n",
      "495      1545.72  \n",
      "496       230.89  \n",
      "497       441.30  \n",
      "498       293.93  \n",
      "499      1479.81  \n",
      "\n",
      "[407 rows x 6 columns]\n"
     ]
    }
   ],
   "source": [
    "# 4.Garantir que a coluna data seja datetime\n",
    "df['Data'] = pd.to_datetime(df['Data'])\n",
    "print(df)"
   ]
  },
  {
   "cell_type": "code",
   "execution_count": 58,
   "metadata": {},
   "outputs": [
    {
     "name": "stdout",
     "output_type": "stream",
     "text": [
      "          Data         Loja         Categoria          Produto  \\\n",
      "0   2024-07-20  Vento Norte  eletrodomesticos        Aquecedor   \n",
      "1   2024-05-30  Vento Norte           sazonal     Guarda-chuva   \n",
      "2   2024-01-25  Vento Norte            roupas            Calça   \n",
      "3   2024-07-10  Chuva Clara            roupas           Casaco   \n",
      "5   2024-08-31    Porto Sol           sazonal    Manta térmica   \n",
      "..         ...          ...               ...              ...   \n",
      "495 2024-08-23    Porto Sol  eletrodomesticos       Ventilador   \n",
      "496 2024-12-19  Vento Norte  eletrodomesticos       Ventilador   \n",
      "497 2024-05-12    Vila Neve          infantil   Blusa Infantil   \n",
      "498 2024-03-08    Vila Neve  eletrodomesticos  Ar-condicionado   \n",
      "499 2024-07-25  Vento Norte           sazonal     Guarda-chuva   \n",
      "\n",
      "     Valor Unitário  Quantidade  Valor_venda  \n",
      "0             81.11         5.0       405.55  \n",
      "1            477.70         6.0      2866.20  \n",
      "2            411.59         8.0      3292.72  \n",
      "3            258.99         5.0      1294.95  \n",
      "5            478.98         2.0       957.96  \n",
      "..              ...         ...          ...  \n",
      "495          386.43         4.0      1545.72  \n",
      "496          230.89         1.0       230.89  \n",
      "497           73.55         6.0       441.30  \n",
      "498          293.93         1.0       293.93  \n",
      "499          493.27         3.0      1479.81  \n",
      "\n",
      "[407 rows x 7 columns]\n"
     ]
    }
   ],
   "source": [
    "# 5. Calcular valor unitário real das vendas válidas\n",
    "df.insert(4, 'Valor Unitário', df['Valor_venda'] / df['Quantidade']) \n",
    "print(df)"
   ]
  },
  {
   "cell_type": "code",
   "execution_count": 59,
   "metadata": {},
   "outputs": [
    {
     "name": "stdout",
     "output_type": "stream",
     "text": [
      "          Data         Loja         Categoria          Produto  \\\n",
      "0   2024-07-20  Vento Norte  eletrodomesticos        Aquecedor   \n",
      "1   2024-05-30  Vento Norte           sazonal     Guarda-chuva   \n",
      "2   2024-01-25  Vento Norte            roupas            Calça   \n",
      "3   2024-07-10  Chuva Clara            roupas           Casaco   \n",
      "5   2024-08-31    Porto Sol           sazonal    Manta térmica   \n",
      "..         ...          ...               ...              ...   \n",
      "495 2024-08-23    Porto Sol  eletrodomesticos       Ventilador   \n",
      "496 2024-12-19  Vento Norte  eletrodomesticos       Ventilador   \n",
      "497 2024-05-12    Vila Neve          infantil   Blusa Infantil   \n",
      "498 2024-03-08    Vila Neve  eletrodomesticos  Ar-condicionado   \n",
      "499 2024-07-25  Vento Norte           sazonal     Guarda-chuva   \n",
      "\n",
      "     Valor Unitário  Quantidade  Valor_venda  \n",
      "0             81.11         5.0       405.55  \n",
      "1            477.70         6.0      2866.20  \n",
      "2            411.59         8.0      3292.72  \n",
      "3            258.99         5.0      1294.95  \n",
      "5            478.98         2.0       957.96  \n",
      "..              ...         ...          ...  \n",
      "495          386.43         4.0      1545.72  \n",
      "496          230.89         1.0       230.89  \n",
      "497           73.55         6.0       441.30  \n",
      "498          293.93         1.0       293.93  \n",
      "499          493.27         3.0      1479.81  \n",
      "\n",
      "[407 rows x 7 columns]\n"
     ]
    }
   ],
   "source": [
    "# 6. Calcular valor médio unitário por produto (sem considerar nulos)\n",
    "df['Valor Unitário'].fillna(df['Valor Unitário'].mean())\n",
    "print(df)"
   ]
  },
  {
   "cell_type": "code",
   "execution_count": 60,
   "metadata": {},
   "outputs": [
    {
     "name": "stderr",
     "output_type": "stream",
     "text": [
      "C:\\Users\\48260449846\\AppData\\Local\\Temp\\ipykernel_19332\\3134254751.py:2: FutureWarning: A value is trying to be set on a copy of a DataFrame or Series through chained assignment using an inplace method.\n",
      "The behavior will change in pandas 3.0. This inplace method will never work because the intermediate object on which we are setting values always behaves as a copy.\n",
      "\n",
      "For example, when doing 'df[col].method(value, inplace=True)', try using 'df.method({col: value}, inplace=True)' or df[col] = df[col].method(value) instead, to perform the operation inplace on the original object.\n",
      "\n",
      "\n",
      "  df['Valor_venda'].fillna(df['Valor Unitário'].mean(), inplace=True)\n"
     ]
    }
   ],
   "source": [
    "# 9. Recalcular valor_venda\n",
    "df['Valor_venda'].fillna(df['Valor Unitário'].mean(), inplace=True)"
   ]
  },
  {
   "cell_type": "code",
   "execution_count": 61,
   "metadata": {},
   "outputs": [
    {
     "name": "stdout",
     "output_type": "stream",
     "text": [
      "          Data         Loja         Categoria          Produto  \\\n",
      "0   2024-07-20  Vento Norte  eletrodomesticos        Aquecedor   \n",
      "1   2024-05-30  Vento Norte           sazonal     Guarda-chuva   \n",
      "2   2024-01-25  Vento Norte            roupas            Calça   \n",
      "3   2024-07-10  Chuva Clara            roupas           Casaco   \n",
      "5   2024-08-31    Porto Sol           sazonal    Manta térmica   \n",
      "..         ...          ...               ...              ...   \n",
      "495 2024-08-23    Porto Sol  eletrodomesticos       Ventilador   \n",
      "496 2024-12-19  Vento Norte  eletrodomesticos       Ventilador   \n",
      "497 2024-05-12    Vila Neve          infantil   Blusa Infantil   \n",
      "498 2024-03-08    Vila Neve  eletrodomesticos  Ar-condicionado   \n",
      "499 2024-07-25  Vento Norte           sazonal     Guarda-chuva   \n",
      "\n",
      "     Valor Unitário  Quantidade  Valor_venda  \n",
      "0             81.11         5.0       405.55  \n",
      "1            477.70         6.0      2866.20  \n",
      "2            411.59         8.0      3292.72  \n",
      "3            258.99         5.0      1294.95  \n",
      "5            478.98         2.0       957.96  \n",
      "..              ...         ...          ...  \n",
      "495          386.43         4.0      1545.72  \n",
      "496          230.89         1.0       230.89  \n",
      "497           73.55         6.0       441.30  \n",
      "498          293.93         1.0       293.93  \n",
      "499          493.27         3.0      1479.81  \n",
      "\n",
      "[407 rows x 7 columns]\n"
     ]
    }
   ],
   "source": [
    "df = df.drop_duplicates()\n",
    "print(df)"
   ]
  },
  {
   "cell_type": "code",
   "execution_count": 62,
   "metadata": {},
   "outputs": [],
   "source": [
    "# 10. Salvar o novo DataFrame limpo em um novo arquivo Excel\n",
    "df.to_excel('vendas_tratadas.xlsx', index=False)"
   ]
  }
 ],
 "metadata": {
  "kernelspec": {
   "display_name": "Python 3",
   "language": "python",
   "name": "python3"
  },
  "language_info": {
   "codemirror_mode": {
    "name": "ipython",
    "version": 3
   },
   "file_extension": ".py",
   "mimetype": "text/x-python",
   "name": "python",
   "nbconvert_exporter": "python",
   "pygments_lexer": "ipython3",
   "version": "3.12.1"
  }
 },
 "nbformat": 4,
 "nbformat_minor": 2
}
